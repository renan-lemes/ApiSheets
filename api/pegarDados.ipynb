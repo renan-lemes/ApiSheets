{
 "cells": [
  {
   "cell_type": "code",
   "execution_count": 22,
   "id": "30a6ef1d",
   "metadata": {},
   "outputs": [],
   "source": [
    "import gspread\n",
    "import pandas as pd\n",
    "from datetime import datetime\n",
    "from oauth2client.service_account import ServiceAccountCredentials \n",
    "from google.oauth2.service_account import Credentials\n",
    "from gspread_dataframe import get_as_dataframe, set_with_dataframe\n",
    "import os"
   ]
  },
  {
   "cell_type": "code",
   "execution_count": 20,
   "id": "220e18af",
   "metadata": {},
   "outputs": [],
   "source": [
    "from dotenv import load_dotenv"
   ]
  },
  {
   "cell_type": "code",
   "execution_count": 21,
   "id": "ca449553",
   "metadata": {},
   "outputs": [
    {
     "data": {
      "text/plain": [
       "True"
      ]
     },
     "execution_count": 21,
     "metadata": {},
     "output_type": "execute_result"
    }
   ],
   "source": [
    "load_dotenv()"
   ]
  },
  {
   "cell_type": "code",
   "execution_count": 24,
   "id": "c17f8102",
   "metadata": {},
   "outputs": [],
   "source": [
    "sheet_id = os.getenv('SHEETS_ID')"
   ]
  },
  {
   "cell_type": "code",
   "execution_count": 35,
   "id": "f5ec06a6",
   "metadata": {},
   "outputs": [
    {
     "name": "stdout",
     "output_type": "stream",
     "text": [
      "✅ Dados concatenados e atualizados com sucesso\n"
     ]
    }
   ],
   "source": [
    "# 1. Autenticação com conta de serviço\n",
    "SCOPES = [\"https://www.googleapis.com/auth/spreadsheets\", \"https://www.googleapis.com/auth/drive\"]\n",
    "creds = Credentials.from_service_account_file(\"../cred.json\", scopes=SCOPES)\n",
    "client = gspread.authorize(creds)\n",
    "\n",
    "# 2. Abra a planilha usando o ID\n",
    "SHEET_ID = sheet_id\n",
    "spreadsheet = client.open_by_key(SHEET_ID)\n",
    "\n",
    "# 3. Seleciona as abas\n",
    "aba_origem = spreadsheet.worksheet(\"vendas\")\n",
    "aba_destino = spreadsheet.worksheet(\"teste\")\n",
    "\n",
    "# 4. Lê os dados da aba de origem (novos dados)\n",
    "df_origem = get_as_dataframe(aba_origem).dropna(how=\"all\")\n",
    "\n",
    "# 5. Adiciona a data da extração nos dados novos\n",
    "df_origem[\"data_extração\"] = datetime.now().strftime(\"%Y-%m-%d %H:%M:%S\")\n",
    "\n",
    "# 6. Lê os dados atuais da aba destino\n",
    "df_destino = get_as_dataframe(aba_destino).dropna(how=\"all\")\n",
    "\n",
    "# 7. Concatena os dados atuais com os novos (ignore o índice)\n",
    "df_final = pd.concat([df_destino, df_origem], ignore_index=True)\n",
    "\n",
    "# 8. Limpa a aba destino antes de escrever\n",
    "aba_destino.clear()\n",
    "\n",
    "# 9. Escreve o dataframe concatenado na aba destino\n",
    "set_with_dataframe(aba_destino, df_final)\n",
    "\n",
    "print(\"✅ Dados concatenados e atualizados com sucesso\")"
   ]
  },
  {
   "cell_type": "code",
   "execution_count": null,
   "id": "a4ffae51",
   "metadata": {},
   "outputs": [],
   "source": []
  },
  {
   "cell_type": "code",
   "execution_count": null,
   "id": "b8f2b28a",
   "metadata": {},
   "outputs": [],
   "source": []
  },
  {
   "cell_type": "code",
   "execution_count": null,
   "id": "65264b6c",
   "metadata": {},
   "outputs": [],
   "source": []
  },
  {
   "cell_type": "code",
   "execution_count": null,
   "id": "b0939130",
   "metadata": {},
   "outputs": [
    {
     "data": {
      "text/plain": [
       "<googleapiclient.discovery.Resource at 0x1d9b79db8e0>"
      ]
     },
     "execution_count": 12,
     "metadata": {},
     "output_type": "execute_result"
    }
   ],
   "source": []
  },
  {
   "cell_type": "code",
   "execution_count": null,
   "id": "c179f0fc",
   "metadata": {},
   "outputs": [],
   "source": []
  },
  {
   "cell_type": "code",
   "execution_count": null,
   "id": "09730383",
   "metadata": {},
   "outputs": [],
   "source": []
  },
  {
   "cell_type": "code",
   "execution_count": null,
   "id": "9b3ebedb",
   "metadata": {},
   "outputs": [],
   "source": []
  }
 ],
 "metadata": {
  "kernelspec": {
   "display_name": "api_sheets_ia",
   "language": "python",
   "name": "python3"
  },
  "language_info": {
   "codemirror_mode": {
    "name": "ipython",
    "version": 3
   },
   "file_extension": ".py",
   "mimetype": "text/x-python",
   "name": "python",
   "nbconvert_exporter": "python",
   "pygments_lexer": "ipython3",
   "version": "3.9.12"
  }
 },
 "nbformat": 4,
 "nbformat_minor": 5
}
