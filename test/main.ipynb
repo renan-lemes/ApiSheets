{
 "cells": [
  {
   "cell_type": "code",
   "execution_count": 1,
   "metadata": {},
   "outputs": [],
   "source": [
    "from __future__ import print_function\n",
    "\n",
    "import os.path\n",
    "\n",
    "from google.auth.transport.requests import Request\n",
    "from google.oauth2.credentials import Credentials\n",
    "from google_auth_oauthlib.flow import InstalledAppFlow\n",
    "from googleapiclient.discovery import build\n",
    "from googleapiclient.errors import HttpError"
   ]
  },
  {
   "cell_type": "code",
   "execution_count": 7,
   "metadata": {},
   "outputs": [],
   "source": [
    "def Conection (SCOPES = 'https://www.googleapis.com/auth/spreadsheets'):\n",
    "    creds = None\n",
    "    \n",
    "    # The file token.json stores the user's access and refresh tokens, and is\n",
    "    # created automatically when the authorization flow completes for the first\n",
    "    # time.\n",
    "\n",
    "    if os.path.exists('token.json'):\n",
    "        creds = Credentials.from_authorized_user_file('C:\\\\Users\\\\RenanLemes\\\\Desktop\\\\Projeto_\\\\ApiSheet\\\\token.json', SCOPES)\n",
    "    # If there are no (valid) credentials available, let the user log in.\n",
    "    if not creds or not creds.valid:\n",
    "        if creds and creds.expired and creds.refresh_token:\n",
    "            creds.refresh(Request())\n",
    "        else:\n",
    "            flow = InstalledAppFlow.from_client_secrets_file(\n",
    "                'client_secret.json', SCOPES)\n",
    "            creds = flow.run_local_server(port=0)\n",
    "        # Save the credentials for the next run\n",
    "        with open('token.json', 'w') as token:\n",
    "            token.write(creds.to_json())\n",
    "    \n",
    "    return creds\n"
   ]
  },
  {
   "cell_type": "code",
   "execution_count": 3,
   "metadata": {},
   "outputs": [],
   "source": [
    "def Read_Sheets(SAMPLE_SPREADSHEET_ID, SAMPLE_RANGE_NAME, creds)->list:\n",
    "    \n",
    "    \n",
    "    service = build('sheets', 'v4', credentials=creds)\n",
    "    sheet = service.spreadsheets() ## Pegou o arquivo inteiro \n",
    "    result = sheet.values().get(spreadsheetId=SAMPLE_SPREADSHEET_ID,\n",
    "                                    range=SAMPLE_RANGE_NAME).execute() ## aqui que passo qual planilha quero ler e qual intervalo de celulas vou ler\n",
    "    values = result.get('values', []) ## esse cara que diz se quero pegar os valores ou estilização do google\n",
    "\n",
    "    return values\n"
   ]
  },
  {
   "cell_type": "code",
   "execution_count": 4,
   "metadata": {},
   "outputs": [],
   "source": [
    "def Update_sheets(creds,SAMPLE_SPREADSHEET_ID,values):\n",
    "    ''' \n",
    "        Adicionar elementos \n",
    "        Testo isso depois  \n",
    "    '''\n",
    "    service = build('sheets', 'v4', credentials=creds)\n",
    "    sheet = service.spreadsheets() ## Pegou o arquivo inteiro \n",
    "\n",
    "    meses_para_datas = {\n",
    "        'Jan': '01/01/2022',\n",
    "        'Fev': '01/02/2022',\n",
    "        'Mar': '01/03/2022',\n",
    "        'Abr': '01/04/2022',\n",
    "        'Mai': '01/05/2022',\n",
    "        'Nov': '01/11/2022'\n",
    "    }\n",
    "\n",
    "\n",
    "    arr = [['01/01/2023', '2130'],['01/02/2023', '2000'],['01/03/2023', '1000']]\n",
    "    res = []\n",
    "    for mes, valor in values:\n",
    "        if mes in meses_para_datas:\n",
    "            res.append([meses_para_datas[mes], valor])\n",
    "        else :\n",
    "            res.append([mes, valor])\n",
    "     \n",
    "\n",
    "    for i in arr:\n",
    "        res.append(i)\n",
    "    print(res)\n",
    "\n",
    "    result = sheet.values().update(spreadsheetId=SAMPLE_SPREADSHEET_ID, range='Tabela dinâmica 1!A1:J30', valueInputOption='USER_ENTERED', body={\"values\":res}).execute()\n",
    "    \n"
   ]
  },
  {
   "cell_type": "code",
   "execution_count": 5,
   "metadata": {},
   "outputs": [],
   "source": [
    "def Delete_sheets(id_sheets):\n",
    "    pass"
   ]
  },
  {
   "cell_type": "code",
   "execution_count": 8,
   "metadata": {},
   "outputs": [
    {
     "ename": "FileNotFoundError",
     "evalue": "[Errno 2] No such file or directory: 'client_secret.json'",
     "output_type": "error",
     "traceback": [
      "\u001b[1;31m---------------------------------------------------------------------------\u001b[0m",
      "\u001b[1;31mFileNotFoundError\u001b[0m                         Traceback (most recent call last)",
      "\u001b[1;32mc:\\Users\\RenanLemes\\Desktop\\Projeto_\\ApiSheet\\test\\main.ipynb Cell 6\u001b[0m in \u001b[0;36m<cell line: 1>\u001b[1;34m()\u001b[0m\n\u001b[1;32m----> <a href='vscode-notebook-cell:/c%3A/Users/RenanLemes/Desktop/Projeto_/ApiSheet/test/main.ipynb#X11sZmlsZQ%3D%3D?line=0'>1</a>\u001b[0m \u001b[39mprint\u001b[39m(Conection([\u001b[39m'\u001b[39;49m\u001b[39mhttps://www.googleapis.com/auth/spreadsheets\u001b[39;49m\u001b[39m'\u001b[39;49m]))\n",
      "\u001b[1;32mc:\\Users\\RenanLemes\\Desktop\\Projeto_\\ApiSheet\\test\\main.ipynb Cell 6\u001b[0m in \u001b[0;36mConection\u001b[1;34m(SCOPES)\u001b[0m\n\u001b[0;32m     <a href='vscode-notebook-cell:/c%3A/Users/RenanLemes/Desktop/Projeto_/ApiSheet/test/main.ipynb#X11sZmlsZQ%3D%3D?line=12'>13</a>\u001b[0m     creds\u001b[39m.\u001b[39mrefresh(Request())\n\u001b[0;32m     <a href='vscode-notebook-cell:/c%3A/Users/RenanLemes/Desktop/Projeto_/ApiSheet/test/main.ipynb#X11sZmlsZQ%3D%3D?line=13'>14</a>\u001b[0m \u001b[39melse\u001b[39;00m:\n\u001b[1;32m---> <a href='vscode-notebook-cell:/c%3A/Users/RenanLemes/Desktop/Projeto_/ApiSheet/test/main.ipynb#X11sZmlsZQ%3D%3D?line=14'>15</a>\u001b[0m     flow \u001b[39m=\u001b[39m InstalledAppFlow\u001b[39m.\u001b[39;49mfrom_client_secrets_file(\n\u001b[0;32m     <a href='vscode-notebook-cell:/c%3A/Users/RenanLemes/Desktop/Projeto_/ApiSheet/test/main.ipynb#X11sZmlsZQ%3D%3D?line=15'>16</a>\u001b[0m         \u001b[39m'\u001b[39;49m\u001b[39mclient_secret.json\u001b[39;49m\u001b[39m'\u001b[39;49m, SCOPES)\n\u001b[0;32m     <a href='vscode-notebook-cell:/c%3A/Users/RenanLemes/Desktop/Projeto_/ApiSheet/test/main.ipynb#X11sZmlsZQ%3D%3D?line=16'>17</a>\u001b[0m     creds \u001b[39m=\u001b[39m flow\u001b[39m.\u001b[39mrun_local_server(port\u001b[39m=\u001b[39m\u001b[39m0\u001b[39m)\n\u001b[0;32m     <a href='vscode-notebook-cell:/c%3A/Users/RenanLemes/Desktop/Projeto_/ApiSheet/test/main.ipynb#X11sZmlsZQ%3D%3D?line=17'>18</a>\u001b[0m \u001b[39m# Save the credentials for the next run\u001b[39;00m\n",
      "File \u001b[1;32mc:\\Users\\RenanLemes\\anaconda3\\lib\\site-packages\\google_auth_oauthlib\\flow.py:198\u001b[0m, in \u001b[0;36mFlow.from_client_secrets_file\u001b[1;34m(cls, client_secrets_file, scopes, **kwargs)\u001b[0m\n\u001b[0;32m    183\u001b[0m \u001b[39m@classmethod\u001b[39m\n\u001b[0;32m    184\u001b[0m \u001b[39mdef\u001b[39;00m \u001b[39mfrom_client_secrets_file\u001b[39m(\u001b[39mcls\u001b[39m, client_secrets_file, scopes, \u001b[39m*\u001b[39m\u001b[39m*\u001b[39mkwargs):\n\u001b[0;32m    185\u001b[0m     \u001b[39m\"\"\"Creates a :class:`Flow` instance from a Google client secrets file.\u001b[39;00m\n\u001b[0;32m    186\u001b[0m \n\u001b[0;32m    187\u001b[0m \u001b[39m    Args:\u001b[39;00m\n\u001b[1;32m   (...)\u001b[0m\n\u001b[0;32m    196\u001b[0m \u001b[39m        Flow: The constructed Flow instance.\u001b[39;00m\n\u001b[0;32m    197\u001b[0m \u001b[39m    \"\"\"\u001b[39;00m\n\u001b[1;32m--> 198\u001b[0m     \u001b[39mwith\u001b[39;00m \u001b[39mopen\u001b[39;49m(client_secrets_file, \u001b[39m\"\u001b[39;49m\u001b[39mr\u001b[39;49m\u001b[39m\"\u001b[39;49m) \u001b[39mas\u001b[39;00m json_file:\n\u001b[0;32m    199\u001b[0m         client_config \u001b[39m=\u001b[39m json\u001b[39m.\u001b[39mload(json_file)\n\u001b[0;32m    201\u001b[0m     \u001b[39mreturn\u001b[39;00m \u001b[39mcls\u001b[39m\u001b[39m.\u001b[39mfrom_client_config(client_config, scopes\u001b[39m=\u001b[39mscopes, \u001b[39m*\u001b[39m\u001b[39m*\u001b[39mkwargs)\n",
      "\u001b[1;31mFileNotFoundError\u001b[0m: [Errno 2] No such file or directory: 'client_secret.json'"
     ]
    }
   ],
   "source": [
    "print(Conection(['https://www.googleapis.com/auth/spreadsheets']))"
   ]
  },
  {
   "cell_type": "code",
   "execution_count": 19,
   "metadata": {},
   "outputs": [],
   "source": [
    "\n",
    "# If modifying these scopes, delete the file token.json.\n",
    "SCOPES = ['https://www.googleapis.com/auth/spreadsheets']\n",
    "\n",
    "# The ID and range of a sample spreadsheet.\n",
    "SAMPLE_SPREADSHEET_ID = '1Iihqlrka23l3w6dskDxjQBKiGzLw-xYoUnzFWmmrni0'\n",
    "SAMPLE_SPREADSHEET_ID_CLIENTE = '1SXhHkgpP7p9M3WTB-FtQ9rBRoxdQnDt20ZstE3QKkLc' \n",
    "\n",
    "SAMPLE_RANGE_NAME = 'Página1!A3:B13'\n",
    "SAMPLE_RANGE_DINAMIC = 'Tabela dinâmica 1!A1:J30'\n",
    "\n",
    "\n",
    "def main():\n",
    "    \n",
    "    creds = Conection(SCOPES) ## credenciais como retorno da conexão \n",
    "    \n",
    "    try:\n",
    "\n",
    "        # Call the Sheets API\n",
    "        values = Read_Sheets(SAMPLE_SPREADSHEET_ID,SAMPLE_RANGE_NAME, creds)\n",
    "        \n",
    "        ## result é a requisição\n",
    "        print(values)\n",
    "        \n",
    "        Update_sheets(creds, SAMPLE_SPREADSHEET_ID, values)\n",
    "\n",
    "        \n",
    "\n",
    "\n",
    "        # if not values:\n",
    "        #     print('No data found.')\n",
    "        #     return\n",
    "\n",
    "        # print('Name, Major:')\n",
    "        # for row in values:\n",
    "        #     # Print columns A and E, which correspond to indices 0 and 4.\n",
    "        #     print('%s, %s' % (row[0], row[4]))\n",
    "\n",
    "    except HttpError as err:\n",
    "        print(err)\n"
   ]
  },
  {
   "cell_type": "code",
   "execution_count": 20,
   "metadata": {},
   "outputs": [
    {
     "name": "stdout",
     "output_type": "stream",
     "text": [
      "[['01/03/2023', '1000'], ['01/05/2022', '5421'], ['01/11/2022', '5642'], ['01/01/2023', '2130'], ['01/02/2023', '2000'], ['mar./1', '1000'], ['01/01/2023', '2130'], ['fev./1', '2000'], ['01/03/2023', '1000'], ['01/01/2023', '2130'], ['01/02/2023', '2000']]\n",
      "[['01/03/2023', '1000'], ['01/05/2022', '5421'], ['01/11/2022', '5642'], ['01/01/2023', '2130'], ['01/02/2023', '2000'], ['mar./1', '1000'], ['01/01/2023', '2130'], ['fev./1', '2000'], ['01/03/2023', '1000'], ['01/01/2023', '2130'], ['01/02/2023', '2000'], ['01/01/2023', '2130'], ['01/02/2023', '2000'], ['01/03/2023', '1000']]\n"
     ]
    }
   ],
   "source": [
    "main()"
   ]
  },
  {
   "cell_type": "code",
   "execution_count": null,
   "metadata": {},
   "outputs": [],
   "source": []
  }
 ],
 "metadata": {
  "kernelspec": {
   "display_name": "Python 3",
   "language": "python",
   "name": "python3"
  },
  "language_info": {
   "codemirror_mode": {
    "name": "ipython",
    "version": 3
   },
   "file_extension": ".py",
   "mimetype": "text/x-python",
   "name": "python",
   "nbconvert_exporter": "python",
   "pygments_lexer": "ipython3",
   "version": "3.9.12"
  },
  "orig_nbformat": 4
 },
 "nbformat": 4,
 "nbformat_minor": 2
}
