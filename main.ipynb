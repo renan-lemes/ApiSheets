{
 "cells": [
  {
   "cell_type": "code",
   "execution_count": 20,
   "metadata": {},
   "outputs": [],
   "source": [
    "from __future__ import print_function\n",
    "\n",
    "import os.path\n",
    "\n",
    "from google.auth.transport.requests import Request\n",
    "from google.oauth2.credentials import Credentials\n",
    "from google_auth_oauthlib.flow import InstalledAppFlow\n",
    "from googleapiclient.discovery import build\n",
    "from googleapiclient.errors import HttpError"
   ]
  },
  {
   "cell_type": "code",
   "execution_count": 21,
   "metadata": {},
   "outputs": [],
   "source": [
    "\n",
    "# If modifying these scopes, delete the file token.json.\n",
    "SCOPES = ['https://www.googleapis.com/auth/spreadsheets']\n",
    "\n",
    "# The ID and range of a sample spreadsheet.\n",
    "SAMPLE_SPREADSHEET_ID = '1Iihqlrka23l3w6dskDxjQBKiGzLw-xYoUnzFWmmrni0'\n",
    "SAMPLE_RANGE_NAME = 'Página1!A1:B7'\n",
    "\n",
    "\n",
    "def main():\n",
    "    \n",
    "\n",
    "    creds = None\n",
    "\n",
    "    # The file token.json stores the user's access and refresh tokens, and is\n",
    "    # created automatically when the authorization flow completes for the first\n",
    "    # time.\n",
    "\n",
    "    if os.path.exists('token.json'):\n",
    "        creds = Credentials.from_authorized_user_file('token.json', SCOPES)\n",
    "    # If there are no (valid) credentials available, let the user log in.\n",
    "    if not creds or not creds.valid:\n",
    "        if creds and creds.expired and creds.refresh_token:\n",
    "            creds.refresh(Request())\n",
    "        else:\n",
    "            flow = InstalledAppFlow.from_client_secrets_file(\n",
    "                'client_secret.json', SCOPES)\n",
    "            creds = flow.run_local_server(port=0)\n",
    "        # Save the credentials for the next run\n",
    "        with open('token.json', 'w') as token:\n",
    "            token.write(creds.to_json())\n",
    "\n",
    "    try:\n",
    "        service = build('sheets', 'v4', credentials=creds)\n",
    "\n",
    "        # Call the Sheets API\n",
    "        sheet = service.spreadsheets() ## Pegou o arquivo inteiro \n",
    "        result = sheet.values().get(spreadsheetId=SAMPLE_SPREADSHEET_ID,\n",
    "                                    range=SAMPLE_RANGE_NAME).execute() ## aqui que passo qual planilha quero ler e qual intervalo de celulas vou ler\n",
    "        values = result.get('values', []) ## esse cara que diz se quero pegar os valores ou estilização do google\n",
    "        \n",
    "        ## result é a requisição\n",
    "        \n",
    "        print(values)\n",
    "\n",
    "        arr = [['Jan/23', '2130'],['Fer/23', '2000'],['Mar/23', '1000']]\n",
    "\n",
    "        for i in arr:\n",
    "            values.append(i)\n",
    "\n",
    "        result = sheet.values().update(spreadsheetId=SAMPLE_SPREADSHEET_ID, range='Página1!A1', valueInputOption='USER_ENTERED', body={\"values\":values}).execute()\n",
    "\n",
    "\n",
    "\n",
    "        # if not values:\n",
    "        #     print('No data found.')\n",
    "        #     return\n",
    "\n",
    "        # print('Name, Major:')\n",
    "        # for row in values:\n",
    "        #     # Print columns A and E, which correspond to indices 0 and 4.\n",
    "        #     print('%s, %s' % (row[0], row[4]))\n",
    "\n",
    "    except HttpError as err:\n",
    "        print(err)\n"
   ]
  },
  {
   "cell_type": "code",
   "execution_count": 22,
   "metadata": {},
   "outputs": [
    {
     "name": "stdout",
     "output_type": "stream",
     "text": [
      "[['Mes', 'Dinheiro'], ['Jan', '3000'], ['Fev', '2500'], ['Mar', '4000'], ['Abr', '3341'], ['Mai', '5421'], ['Nov', '5642']]\n"
     ]
    }
   ],
   "source": [
    "if __name__ == '__main__':\n",
    "    main()"
   ]
  },
  {
   "cell_type": "code",
   "execution_count": null,
   "metadata": {},
   "outputs": [],
   "source": []
  }
 ],
 "metadata": {
  "kernelspec": {
   "display_name": "Python 3",
   "language": "python",
   "name": "python3"
  },
  "language_info": {
   "codemirror_mode": {
    "name": "ipython",
    "version": 3
   },
   "file_extension": ".py",
   "mimetype": "text/x-python",
   "name": "python",
   "nbconvert_exporter": "python",
   "pygments_lexer": "ipython3",
   "version": "3.9.12"
  },
  "orig_nbformat": 4
 },
 "nbformat": 4,
 "nbformat_minor": 2
}
